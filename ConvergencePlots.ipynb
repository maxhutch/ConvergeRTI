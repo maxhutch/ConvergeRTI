{
 "cells": [
  {
   "cell_type": "markdown",
   "metadata": {},
   "source": [
    "# 0D model of low-Atwood, single-mode RTI"
   ]
  },
  {
   "cell_type": "markdown",
   "metadata": {},
   "source": [
    "Lots of imports."
   ]
  },
  {
   "cell_type": "code",
   "execution_count": null,
   "metadata": {
    "collapsed": false
   },
   "outputs": [],
   "source": [
    "%matplotlib inline\n",
    "import numpy as np\n",
    "import matplotlib.pyplot as plt\n",
    "from IPython.html.widgets import interact\n",
    "\n",
    "from scipy.interpolate import interp1d, UnivariateSpline\n",
    "from scipy.optimize import bisect\n",
    "from scipy.special import erf\n",
    "import json\n",
    "from functools import partial\n",
    "class Foo: pass\n",
    "from chest import Chest\n",
    "from slict import CachedSlict\n",
    "from glopen import glopen, glopen_many"
   ]
  },
  {
   "cell_type": "code",
   "execution_count": null,
   "metadata": {
    "collapsed": true
   },
   "outputs": [],
   "source": [
    "def load_from_archive(names, arch):\n",
    "    cs = []\n",
    "    for name in names:\n",
    "        cs.append(Chest(path      = \"{:s}-results\".format(name),\n",
    "                        open      = partial(glopen,      endpoint=arch),\n",
    "                        open_many = partial(glopen_many, endpoint=arch)))\n",
    "    scs = [CachedSlict(c) for c in cs]\n",
    "\n",
    "    ps = []\n",
    "    for name in names:\n",
    "        with glopen(\n",
    "                    \"{:s}.json\".format(name), mode='r',\n",
    "                    endpoint = arch,\n",
    "                    ) as f:\n",
    "            ps.append(json.load(f))\n",
    "    if len(names) == 1:\n",
    "        return cs[0], scs[0], ps[0]\n",
    "    return cs, scs, ps"
   ]
  },
  {
   "cell_type": "markdown",
   "metadata": {},
   "source": [
    "We're going to compare/train on model on DNS data.  Here, we list which data sets to use and where they live."
   ]
  },
  {
   "cell_type": "code",
   "execution_count": null,
   "metadata": {
    "collapsed": true
   },
   "outputs": [],
   "source": [
    "config = Foo()\n",
    "config.names     = [\n",
    "#    \"Conv/cnv_o8_e32/cnv_o8_e32\",\n",
    "    \"Conv/cnv_o4_e32/cnv_o4_e32\",\n",
    "    \"Conv/cnv_o8_e16/cnv_o8_e16\",\n",
    "    \"Conv/cnv_o4_e16/cnv_o4_e16\",\n",
    "    ]\n",
    "config.ref = [\"Conv/cnv_o8_e32/cnv_o8_e32\",]\n",
    "#config.arch_end = \"maxhutch#alpha-admin/~/pub/\"\n",
    "config.arch_end = \"alcf#dtn_mira/projects/HighAspectRTI/experiments\""
   ]
  },
  {
   "cell_type": "markdown",
   "metadata": {},
   "source": [
    "This opens the data.  Could be rolled into a utility routine."
   ]
  },
  {
   "cell_type": "code",
   "execution_count": null,
   "metadata": {
    "collapsed": false
   },
   "outputs": [],
   "source": [
    "cs, scs, ps = load_from_archive(config.names, config.arch_end);\n",
    "rc, rsc, rp = load_from_archive(config.ref, config.arch_end);"
   ]
  },
  {
   "cell_type": "markdown",
   "metadata": {},
   "source": [
    "The data is remote, so we pre-fetch it for efficiency."
   ]
  },
  {
   "cell_type": "code",
   "execution_count": null,
   "metadata": {
    "collapsed": false
   },
   "outputs": [],
   "source": [
    "from interfaces.abstract import AbstractSlice\n",
    "height = 'H_exp'\n",
    "#mix = 't_abs_proj_z'\n",
    "mix = 't_sq_proj_z'\n",
    "for c,sc in zip(cs, scs):\n",
    "    c.prefetch(\n",
    "          sc[:,height].full_keys()\n",
    "        + sc[:,mix].full_keys()\n",
    "    )\n",
    "rc.prefetch(\n",
    "          rsc[:,height].full_keys()\n",
    "        + rsc[:,mix].full_keys()\n",
    "           )\n",
    "T_end = rsc[:,height].keys()[-1]"
   ]
  },
  {
   "cell_type": "markdown",
   "metadata": {},
   "source": [
    "For each run in the data set, interpolate the heights with a spline, take a derivative, and compute the mixedness from the `t_abs_proj_z` field."
   ]
  },
  {
   "cell_type": "code",
   "execution_count": null,
   "metadata": {
    "collapsed": false
   },
   "outputs": [],
   "source": [
    "delta_H = []\n",
    "delta_A = []\n",
    "for sc, p in zip(scs, ps):\n",
    "    dh = 0.\n",
    "    da = 0.\n",
    "    count = 0\n",
    "    for T in rsc[:,height].keys():\n",
    "        if T in sc[:,height].keys():\n",
    "            dh += (sc[T,height] - rsc[T,height])**2\n",
    "            da += (np.mean(sc[T,mix]) - np.mean(rsc[T,mix]))**2\n",
    "            count += 1\n",
    "#        else:\n",
    "#            print(\"Missing T={:} in order={:} Courant={}\".format(T, p[\"order\"], p[\"courant\"]))\n",
    "    delta_H.append(np.sqrt(dh/count))\n",
    "    delta_A.append(np.sqrt(da/count))\n",
    "print(delta_H)\n",
    "print(delta_A)"
   ]
  },
  {
   "cell_type": "code",
   "execution_count": null,
   "metadata": {
    "collapsed": false,
    "scrolled": true
   },
   "outputs": [],
   "source": [
    "dofs = [p['order']*p['shape_mesh'][0] for p in ps]\n",
    "errs =  np.log(np.array(delta_H))\n",
    "labels = [\"{:d},{:d}\".format(p['order'], p['shape_mesh'][0]) for p in ps]\n",
    "plt.scatter(dofs, errs)\n",
    "plt.xlabel('Degrees of freedom (1D)')\n",
    "plt.ylabel('Log RMS difference in H')\n",
    "for x, y, label in zip(dofs, errs, labels):\n",
    "    plt.annotate(label, xy=(x, y), xytext = (20, 10), textcoords = 'offset points', ha = 'right', va = 'bottom')\n",
    "\n",
    "plt.figure()\n",
    "errs =  np.log(np.array(delta_A))\n",
    "plt.scatter(dofs, errs)\n",
    "plt.xlabel('Degrees of freedom (1D)')\n",
    "plt.ylabel('Log RMS difference in A')\n",
    "for x, y, label in zip(dofs, errs, labels):\n",
    "    plt.annotate(label, xy=(x, y), xytext = (20, 10), textcoords = 'offset points', ha = 'right', va = 'bottom')"
   ]
  },
  {
   "cell_type": "code",
   "execution_count": null,
   "metadata": {
    "collapsed": false
   },
   "outputs": [],
   "source": [
    "spls = []\n",
    "As = []\n",
    "Frs = []\n",
    "for sc, p in zip(scs, ps):\n",
    "    T = np.array(sc[:,height].keys())\n",
    "    H =  (np.array(sc[:,height].values()) \n",
    "#        + 2.*np.sqrt(p[\"conductivity\"] * (T + p['delta']**2/p['conductivity']/16))\n",
    "           )\n",
    "    spls.append(UnivariateSpline(T,\n",
    "                                 H,\n",
    "                                 k = 3,\n",
    "                                 s = 0.00000001))\n",
    "    A = np.array([4*np.mean(x) for x in sc[:,mix].values()])\n",
    "    As.append(UnivariateSpline(T, A, k=3, s=0.0001))\n",
    "\n",
    "Frs = [spl.derivative() for spl in spls]\n",
    "Tss = [np.linspace(sc[:,height].keys()[0], sc[:,height].keys()[-1], 1000) for sc in scs]"
   ]
  },
  {
   "cell_type": "code",
   "execution_count": null,
   "metadata": {
    "collapsed": false
   },
   "outputs": [],
   "source": [
    "def plot_model(p, spl, V, A, T, sc, axs, nplot):   \n",
    "        L = 1/p[\"kmin\"]\n",
    "        Atwood = p[\"g\"] * p[\"atwood\"]\n",
    "        visc = p[\"viscosity\"]\n",
    "        diff = p[\"conductivity\"]\n",
    "        y0 = [p[\"amp0\"]/p[\"kmin\"], 0., p['delta']*L*L/np.sqrt(np.pi)]\n",
    "        t0 = 0.\n",
    "        \n",
    "        Darcy = Atwood * L * L / (113.816 * visc)\n",
    "        \n",
    "        H_num = spl(T) / L;\n",
    "        At_num =1-(p['extent_mesh'][2]- p['extent_mesh'][2]*A(T))/H_num\n",
    "\n",
    "        axs[0].plot(T, H_num);\n",
    "        axs[0].plot(sc[:,height].keys(), np.array(sc[:,height].values()) / L, 'yo')\n",
    "\n",
    "        axs[1].plot(T, At_num);\n",
    "\n",
    "        axs[2].plot(T, (1-A(T))*p['extent_mesh'][2]);\n",
    "        #axs[nrow][3].axhline(Darcy/ np.sqrt(Atwood * L));\n",
    "        #axs[nrow][0].set_xbound(0,6)\n",
    "        #axs[nrow][0].set_ybound(0,.025)\n",
    "\n",
    "nplot = 3\n",
    "fig, axs = plt.subplots(nplot, figsize=(16,8 * len(ps)));\n",
    "#plot_model(rp, spl, V, A, T, sc, axs, nplot)\n",
    "for p, spl, V, A, T, sc in zip(ps, spls, Frs, As, Tss, scs):\n",
    "    plot_model(p, spl, V, A, T, sc, axs, nplot)\n"
   ]
  }
 ],
 "metadata": {
  "kernelspec": {
   "display_name": "Python 3",
   "language": "python",
   "name": "python3"
  },
  "language_info": {
   "codemirror_mode": {
    "name": "ipython",
    "version": 3
   },
   "file_extension": ".py",
   "mimetype": "text/x-python",
   "name": "python",
   "nbconvert_exporter": "python",
   "pygments_lexer": "ipython3",
   "version": "3.4.3"
  }
 },
 "nbformat": 4,
 "nbformat_minor": 0
}
